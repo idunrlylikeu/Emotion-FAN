{
 "cells": [
  {
   "cell_type": "markdown",
   "id": "fd44d5be-3ed6-4354-aa23-9feea522bf40",
   "metadata": {},
   "source": [
    "Data split\n",
    "\n",
    "#ตอนแบ่ง train test เช็ค class distribution\n"
   ]
  },
  {
   "cell_type": "code",
   "execution_count": 10,
   "id": "8b5f8b21-a722-4972-829d-bfcd68d687c2",
   "metadata": {},
   "outputs": [
    {
     "name": "stdout",
     "output_type": "stream",
     "text": [
      "data per class [32. 32.  0. 32. 32. 16. 16.  0.]\n",
      "data per test [10. 10.  0. 10. 10.  5.  5.  0.]\n"
     ]
    }
   ],
   "source": [
    "import shutil\n",
    "import os\n",
    "import numpy as np\n",
    "import argparse\n",
    "\n",
    "def get_files_from_folder(path):\n",
    "\n",
    "    files = os.listdir(path)\n",
    "    return np.asarray(files)\n",
    "\n",
    "def main(path_to_data, path_to_test_data, train_ratio):\n",
    "    # get dirs\n",
    "    _, dirs, _ = next(os.walk(path_to_data))\n",
    "\n",
    "    # calculates how many train data per class\n",
    "    data_counter_per_class = np.zeros((len(dirs)))\n",
    "    for i in range(len(dirs)):\n",
    "        path = os.path.join(path_to_data, dirs[i])\n",
    "        files = get_files_from_folder(path)\n",
    "        data_counter_per_class[i] = len(files)\n",
    "    print(\"data per class\", data_counter_per_class)\n",
    "    test_counter = np.round(data_counter_per_class * (1 - train_ratio))\n",
    "    print(\"data per test\", test_counter)\n",
    "    \n",
    "    # transfers files\n",
    "    for i in range(len(dirs)):\n",
    "        path_to_original = os.path.join(path_to_data, dirs[i])\n",
    "        path_to_save = os.path.join(path_to_test_data, dirs[i])\n",
    "\n",
    "        #creates dir\n",
    "        if not os.path.exists(path_to_save):\n",
    "            os.makedirs(path_to_save)\n",
    "        files = get_files_from_folder(path_to_original)\n",
    "                                     \n",
    "        # random file sequence\n",
    "        np.random.shuffle(files)\n",
    "                                      \n",
    "        # moves data\n",
    "        for j in range(int(test_counter[i])):\n",
    "            dst = os.path.join(path_to_save, files[j])\n",
    "            src = os.path.join(path_to_original, files[j])\n",
    "            shutil.move(src, dst)\n",
    "\n",
    "# Path to data\n",
    "path_to_data = \"./data/video/train_ravdess\"\n",
    "# Path to test data where to save\n",
    "path_to_test_data = \"./data/video/test_ravdess\"\n",
    "# Train ratio - 0.7 means splitting data in 70 % train and 30 % test\n",
    "train_ratio = float(0.7)\n",
    "main(path_to_data, path_to_test_data, train_ratio)"
   ]
  },
  {
   "cell_type": "code",
   "execution_count": null,
   "id": "807c4090-4020-43ac-942a-1d42f139fae9",
   "metadata": {},
   "outputs": [],
   "source": []
  }
 ],
 "metadata": {
  "kernelspec": {
   "display_name": "Python 3 (ipykernel)",
   "language": "python",
   "name": "python3"
  },
  "language_info": {
   "codemirror_mode": {
    "name": "ipython",
    "version": 3
   },
   "file_extension": ".py",
   "mimetype": "text/x-python",
   "name": "python",
   "nbconvert_exporter": "python",
   "pygments_lexer": "ipython3",
   "version": "3.9.18"
  }
 },
 "nbformat": 4,
 "nbformat_minor": 5
}
