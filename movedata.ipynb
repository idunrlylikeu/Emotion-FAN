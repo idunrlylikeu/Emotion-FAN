{
 "cells": [
  {
   "cell_type": "code",
   "execution_count": 2,
   "metadata": {},
   "outputs": [],
   "source": [
    "import os\n",
    "import sys\n",
    "import re\n",
    "import shutil"
   ]
  },
  {
   "cell_type": "code",
   "execution_count": 19,
   "metadata": {},
   "outputs": [],
   "source": [
    "wants = [\"angry\", \"disgust\", \"fearful\", \"happy\", \"sad\", \"surprised\"]"
   ]
  },
  {
   "cell_type": "code",
   "execution_count": 20,
   "metadata": {},
   "outputs": [],
   "source": [
    "source_dir = \"./data/face/train_ravdess/\"\n",
    "dest_dir = \"./data/face/test_ravdess/\"\n",
    "for want in wants:\n",
    "    for files in os.listdir(source_dir+want+\"/\"):\n",
    "        temp = files.split(\"-\")\n",
    "        actor = temp[-1]\n",
    "        if actor in [\"01\", \"04\", \"05\", \"13\", \"16\", \"22\"]:\n",
    "            # move to dest_dir\n",
    "            shutil.move(source_dir+want+\"/\"+files, dest_dir+want+\"/\"+files)"
   ]
  },
  {
   "cell_type": "code",
   "execution_count": 9,
   "metadata": {},
   "outputs": [
    {
     "data": {
      "text/plain": [
       "24"
      ]
     },
     "execution_count": 9,
     "metadata": {},
     "output_type": "execute_result"
    }
   ],
   "source": [
    "actors = [1,5,9,11,17, 18,22, 25, 36, 42, 46, 51, 52, 56, 65, 67, 71, 3,16,19,33, 47, 50, 61]\n",
    "actors = [\"P%03d\" %x for x in actors]\n",
    "len(actors)"
   ]
  },
  {
   "cell_type": "code",
   "execution_count": 10,
   "metadata": {},
   "outputs": [
    {
     "data": {
      "text/plain": [
       "['P001',\n",
       " 'P005',\n",
       " 'P009',\n",
       " 'P011',\n",
       " 'P017',\n",
       " 'P018',\n",
       " 'P022',\n",
       " 'P025',\n",
       " 'P036',\n",
       " 'P042',\n",
       " 'P046',\n",
       " 'P051',\n",
       " 'P052',\n",
       " 'P056',\n",
       " 'P065',\n",
       " 'P067',\n",
       " 'P071',\n",
       " 'P003',\n",
       " 'P016',\n",
       " 'P019',\n",
       " 'P033',\n",
       " 'P047',\n",
       " 'P050',\n",
       " 'P061']"
      ]
     },
     "execution_count": 10,
     "metadata": {},
     "output_type": "execute_result"
    }
   ],
   "source": [
    "actors"
   ]
  },
  {
   "cell_type": "code",
   "execution_count": 11,
   "metadata": {},
   "outputs": [],
   "source": [
    "source_dir = \"./data/face/train_oulu/\"\n",
    "dest_dir = \"./data/face/test_oulu/\"\n",
    "for folder in os.listdir(source_dir):\n",
    "    for files in os.listdir(source_dir+folder+\"/\"):\n",
    "        name = files.split(\"_\")\n",
    "        actor = name[1]\n",
    "        if actor in actors:\n",
    "            # move to dest_dir\n",
    "            shutil.move(source_dir+folder+\"/\"+files, dest_dir+folder+\"/\"+files)"
   ]
  },
  {
   "cell_type": "code",
   "execution_count": null,
   "metadata": {},
   "outputs": [],
   "source": []
  }
 ],
 "metadata": {
  "kernelspec": {
   "display_name": "Python 3 (ipykernel)",
   "language": "python",
   "name": "python3"
  },
  "language_info": {
   "codemirror_mode": {
    "name": "ipython",
    "version": 3
   },
   "file_extension": ".py",
   "mimetype": "text/x-python",
   "name": "python",
   "nbconvert_exporter": "python",
   "pygments_lexer": "ipython3",
   "version": "3.11.5"
  }
 },
 "nbformat": 4,
 "nbformat_minor": 4
}
