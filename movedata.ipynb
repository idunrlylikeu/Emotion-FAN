{
 "cells": [
  {
   "cell_type": "code",
   "execution_count": 1,
   "metadata": {},
   "outputs": [],
   "source": [
    "import os\n",
    "import sys\n",
    "import re\n",
    "import shutil"
   ]
  },
  {
   "cell_type": "code",
   "execution_count": 19,
   "metadata": {},
   "outputs": [],
   "source": [
    "wants = [\"angry\", \"disgust\", \"fearful\", \"happy\", \"sad\", \"surprised\"]"
   ]
  },
  {
   "cell_type": "code",
   "execution_count": 20,
   "metadata": {},
   "outputs": [],
   "source": [
    "source_dir = \"./data/face/train_ravdess/\"\n",
    "dest_dir = \"./data/face/test_ravdess/\"\n",
    "for want in wants:\n",
    "    for files in os.listdir(source_dir+want+\"/\"):\n",
    "        temp = files.split(\"-\")\n",
    "        actor = temp[-1]\n",
    "        if actor in [\"01\", \"04\", \"05\", \"13\", \"16\", \"22\"]:\n",
    "            # move to dest_dir\n",
    "            shutil.move(source_dir+want+\"/\"+files, dest_dir+want+\"/\"+files)"
   ]
  },
  {
   "cell_type": "code",
   "execution_count": 2,
   "metadata": {},
   "outputs": [
    {
     "data": {
      "text/plain": [
       "24"
      ]
     },
     "execution_count": 2,
     "metadata": {},
     "output_type": "execute_result"
    }
   ],
   "source": [
    "actors = [1,5,9,11,17, 18,22, 25, 36, 42, 46, 51, 52, 56, 65, 67, 71, 3,16,19,33, 47, 50, 61]\n",
    "actors = [\"P%03d\" %x for x in actors]\n",
    "len(actors)"
   ]
  },
  {
   "cell_type": "code",
   "execution_count": 3,
   "metadata": {},
   "outputs": [
    {
     "data": {
      "text/plain": [
       "['P001',\n",
       " 'P005',\n",
       " 'P009',\n",
       " 'P011',\n",
       " 'P017',\n",
       " 'P018',\n",
       " 'P022',\n",
       " 'P025',\n",
       " 'P036',\n",
       " 'P042',\n",
       " 'P046',\n",
       " 'P051',\n",
       " 'P052',\n",
       " 'P056',\n",
       " 'P065',\n",
       " 'P067',\n",
       " 'P071',\n",
       " 'P003',\n",
       " 'P016',\n",
       " 'P019',\n",
       " 'P033',\n",
       " 'P047',\n",
       " 'P050',\n",
       " 'P061']"
      ]
     },
     "execution_count": 3,
     "metadata": {},
     "output_type": "execute_result"
    }
   ],
   "source": [
    "actors"
   ]
  },
  {
   "cell_type": "code",
   "execution_count": null,
   "metadata": {},
   "outputs": [],
   "source": []
  },
  {
   "cell_type": "code",
   "execution_count": 11,
   "metadata": {},
   "outputs": [],
   "source": [
    "source_dir = \"./data/face/train_oulu/\"\n",
    "dest_dir = \"./data/face/test_oulu/\"\n",
    "for folder in os.listdir(source_dir):\n",
    "    for files in os.listdir(source_dir+folder+\"/\"):\n",
    "        name = files.split(\"_\")\n",
    "        actor = name[1]\n",
    "        if actor in actors:\n",
    "            # move to dest_dir\n",
    "            shutil.move(source_dir+folder+\"/\"+files, dest_dir+folder+\"/\"+files)"
   ]
  },
  {
   "cell_type": "code",
   "execution_count": 6,
   "metadata": {},
   "outputs": [],
   "source": [
    "source_dir = \"./data/face/all_oulu_glass/\"\n",
    "output_path = \"./data/txt/test_oulu_glass.txt\""
   ]
  },
  {
   "cell_type": "code",
   "execution_count": 14,
   "metadata": {},
   "outputs": [],
   "source": [
    "for folder in os.listdir(source_dir):\n",
    "    with open(output_path, \"w\") as f:\n",
    "    # Walk through the directory\n",
    "        for root, dirs, files in os.walk(source_dir):\n",
    "            # Skip if no files in the directory\n",
    "            if not files:\n",
    "                continue\n",
    "            else:\n",
    "                label = os.path.basename(os.path.dirname(root))\n",
    "                # Write the directory path (relative to dir_path) and label to the output file\n",
    "                relative_path = os.path.relpath(root, source_dir)\n",
    "                relative_path = relative_path.replace(\"\\\\\", \"/\")\n",
    "                temp = relative_path.split()\n",
    "                temp = temp[0].split(\"/\")\n",
    "                actor = temp[1].split(\"_\")[1]\n",
    "                if actor in actors:\n",
    "                    f.write(f\"{relative_path} {label}\\n\")\n",
    "            \n",
    "    "
   ]
  },
  {
   "cell_type": "code",
   "execution_count": 16,
   "metadata": {},
   "outputs": [],
   "source": [
    "test_glass_list =[]"
   ]
  },
  {
   "cell_type": "code",
   "execution_count": 17,
   "metadata": {},
   "outputs": [],
   "source": [
    "for line in open(\"./data/txt/test_oulu_glass.txt\"):\n",
    "    line = line.strip()\n",
    "    test_glass_list.append(line)"
   ]
  },
  {
   "cell_type": "code",
   "execution_count": 18,
   "metadata": {},
   "outputs": [],
   "source": [
    "with open(\"./data/txt/train_oulu_glass.txt\", \"w\") as f:\n",
    "    for line in open(\"./data/txt/all_oulu_glass.txt\"):\n",
    "        line = line.strip()\n",
    "        if line not in test_glass_list:\n",
    "            f.write(line+\"\\n\")"
   ]
  },
  {
   "cell_type": "code",
   "execution_count": null,
   "metadata": {},
   "outputs": [],
   "source": []
  }
 ],
 "metadata": {
  "kernelspec": {
   "display_name": "Python 3 (ipykernel)",
   "language": "python",
   "name": "python3"
  },
  "language_info": {
   "codemirror_mode": {
    "name": "ipython",
    "version": 3
   },
   "file_extension": ".py",
   "mimetype": "text/x-python",
   "name": "python",
   "nbconvert_exporter": "python",
   "pygments_lexer": "ipython3",
   "version": "3.9.18"
  }
 },
 "nbformat": 4,
 "nbformat_minor": 4
}
