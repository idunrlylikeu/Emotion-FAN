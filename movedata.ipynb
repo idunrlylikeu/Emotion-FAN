{
 "cells": [
  {
   "cell_type": "code",
   "execution_count": 1,
   "metadata": {},
   "outputs": [],
   "source": [
    "import os\n",
    "import sys\n",
    "import re\n",
    "import shutil"
   ]
  },
  {
   "cell_type": "code",
   "execution_count": 19,
   "metadata": {},
   "outputs": [],
   "source": [
    "wants = [\"angry\", \"disgust\", \"fearful\", \"happy\", \"sad\", \"surprised\"]"
   ]
  },
  {
   "cell_type": "code",
   "execution_count": 20,
   "metadata": {},
   "outputs": [],
   "source": [
    "source_dir = \"./data/face/train_ravdess/\"\n",
    "dest_dir = \"./data/face/test_ravdess/\"\n",
    "for want in wants:\n",
    "    for files in os.listdir(source_dir+want+\"/\"):\n",
    "        temp = files.split(\"-\")\n",
    "        actor = temp[-1]\n",
    "        if actor in [\"01\", \"04\", \"05\", \"13\", \"16\", \"22\"]:\n",
    "            # move to dest_dir\n",
    "            shutil.move(source_dir+want+\"/\"+files, dest_dir+want+\"/\"+files)"
   ]
  },
  {
   "cell_type": "code",
   "execution_count": null,
   "metadata": {},
   "outputs": [],
   "source": []
  }
 ],
 "metadata": {
  "kernelspec": {
   "display_name": "emotion_fan",
   "language": "python",
   "name": "python3"
  },
  "language_info": {
   "codemirror_mode": {
    "name": "ipython",
    "version": 3
   },
   "file_extension": ".py",
   "mimetype": "text/x-python",
   "name": "python",
   "nbconvert_exporter": "python",
   "pygments_lexer": "ipython3",
   "version": "3.9.18"
  }
 },
 "nbformat": 4,
 "nbformat_minor": 2
}
